{
 "cells": [
  {
   "cell_type": "markdown",
   "id": "5b537b18",
   "metadata": {},
   "source": [
    "\n",
    "## Create a function that takes 1 parameter of type int , then it prints out the result formatted like the following pattern (if we give it 5 for example):\n",
    "\n",
    "5 4 3 2 1   \n",
    "4 3 2 1   \n",
    "3 2 1   \n",
    "2 1   \n",
    "1   \n"
   ]
  },
  {
   "cell_type": "code",
   "execution_count": 26,
   "id": "5cf56fc2",
   "metadata": {},
   "outputs": [
    {
     "name": "stdout",
     "output_type": "stream",
     "text": [
      "54321\n",
      "4321\n",
      "321\n",
      "21\n",
      "1\n"
     ]
    }
   ],
   "source": [
    "def my_func(x : int):\n",
    "    for num in reversed(range(1,x+1)):\n",
    "        for x in range(num, 0, -1):\n",
    "            print(x, end=\"\")\n",
    "        print()\n",
    "my_func(5)"
   ]
  },
  {
   "cell_type": "code",
   "execution_count": null,
   "id": "586046fc",
   "metadata": {},
   "outputs": [],
   "source": []
  }
 ],
 "metadata": {
  "kernelspec": {
   "display_name": "Python 3 (ipykernel)",
   "language": "python",
   "name": "python3"
  },
  "language_info": {
   "codemirror_mode": {
    "name": "ipython",
    "version": 3
   },
   "file_extension": ".py",
   "mimetype": "text/x-python",
   "name": "python",
   "nbconvert_exporter": "python",
   "pygments_lexer": "ipython3",
   "version": "3.9.12"
  }
 },
 "nbformat": 4,
 "nbformat_minor": 5
}
